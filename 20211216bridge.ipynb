{
 "cells": [
  {
   "cell_type": "code",
   "execution_count": 57,
   "id": "609a6851",
   "metadata": {},
   "outputs": [],
   "source": [
    "%matplotlib inline\n",
    "from sklearn import datasets\n",
    "import matplotlib.pyplot as plt\n",
    "import seaborn as sns\n",
    "import pandas as pd\n",
    "import numpy as np"
   ]
  },
  {
   "cell_type": "code",
   "execution_count": 58,
   "id": "bbe5cba1",
   "metadata": {},
   "outputs": [
    {
     "data": {
      "text/html": [
       "<div>\n",
       "<style scoped>\n",
       "    .dataframe tbody tr th:only-of-type {\n",
       "        vertical-align: middle;\n",
       "    }\n",
       "\n",
       "    .dataframe tbody tr th {\n",
       "        vertical-align: top;\n",
       "    }\n",
       "\n",
       "    .dataframe thead th {\n",
       "        text-align: right;\n",
       "    }\n",
       "</style>\n",
       "<table border=\"1\" class=\"dataframe\">\n",
       "  <thead>\n",
       "    <tr style=\"text-align: right;\">\n",
       "      <th></th>\n",
       "      <th>date</th>\n",
       "      <th>deflection</th>\n",
       "      <th>temperature</th>\n",
       "      <th>OW1</th>\n",
       "      <th>OW2</th>\n",
       "      <th>T1(1-3)</th>\n",
       "      <th>T1(2-4)</th>\n",
       "      <th>T2(1-3)</th>\n",
       "      <th>T2(2-4)</th>\n",
       "      <th>T3(1-3)</th>\n",
       "      <th>...</th>\n",
       "      <th>T5(2-4)</th>\n",
       "      <th>T6(1-3)</th>\n",
       "      <th>T6(2-4)</th>\n",
       "      <th>number</th>\n",
       "      <th>SO1(1.5)</th>\n",
       "      <th>SO1(2.5)</th>\n",
       "      <th>SO1(3.5)</th>\n",
       "      <th>SO2(0.5)</th>\n",
       "      <th>SO2(10.5)</th>\n",
       "      <th>SO2(11.0)</th>\n",
       "    </tr>\n",
       "  </thead>\n",
       "  <tbody>\n",
       "    <tr>\n",
       "      <th>0</th>\n",
       "      <td>100/8/29</td>\n",
       "      <td>587.50</td>\n",
       "      <td>32.0</td>\n",
       "      <td>-2.65</td>\n",
       "      <td>-7.40</td>\n",
       "      <td>0.00010</td>\n",
       "      <td>-0.00008</td>\n",
       "      <td>0.00044</td>\n",
       "      <td>0.00024</td>\n",
       "      <td>-0.00018</td>\n",
       "      <td>...</td>\n",
       "      <td>-0.00042</td>\n",
       "      <td>-0.00018</td>\n",
       "      <td>0.00044</td>\n",
       "      <td>35282</td>\n",
       "      <td>0.00</td>\n",
       "      <td>0.00</td>\n",
       "      <td>0.00</td>\n",
       "      <td>0.00</td>\n",
       "      <td>0.00</td>\n",
       "      <td>0.00</td>\n",
       "    </tr>\n",
       "    <tr>\n",
       "      <th>1</th>\n",
       "      <td>100/9/26</td>\n",
       "      <td>585.44</td>\n",
       "      <td>28.0</td>\n",
       "      <td>-2.84</td>\n",
       "      <td>-7.20</td>\n",
       "      <td>0.00014</td>\n",
       "      <td>-0.00006</td>\n",
       "      <td>0.00044</td>\n",
       "      <td>0.00008</td>\n",
       "      <td>-0.00006</td>\n",
       "      <td>...</td>\n",
       "      <td>-0.00042</td>\n",
       "      <td>-0.00016</td>\n",
       "      <td>0.00046</td>\n",
       "      <td>43399</td>\n",
       "      <td>0.00</td>\n",
       "      <td>0.00</td>\n",
       "      <td>0.00</td>\n",
       "      <td>0.00</td>\n",
       "      <td>0.00</td>\n",
       "      <td>0.00</td>\n",
       "    </tr>\n",
       "    <tr>\n",
       "      <th>2</th>\n",
       "      <td>100/10/28</td>\n",
       "      <td>583.40</td>\n",
       "      <td>25.0</td>\n",
       "      <td>-2.38</td>\n",
       "      <td>-7.00</td>\n",
       "      <td>0.00016</td>\n",
       "      <td>-0.00010</td>\n",
       "      <td>0.00044</td>\n",
       "      <td>0.00004</td>\n",
       "      <td>-0.00008</td>\n",
       "      <td>...</td>\n",
       "      <td>-0.00046</td>\n",
       "      <td>-0.00018</td>\n",
       "      <td>0.00044</td>\n",
       "      <td>59634</td>\n",
       "      <td>0.00</td>\n",
       "      <td>0.00</td>\n",
       "      <td>0.00</td>\n",
       "      <td>0.00</td>\n",
       "      <td>0.00</td>\n",
       "      <td>0.00</td>\n",
       "    </tr>\n",
       "    <tr>\n",
       "      <th>3</th>\n",
       "      <td>100/12/7</td>\n",
       "      <td>594.63</td>\n",
       "      <td>31.0</td>\n",
       "      <td>-2.10</td>\n",
       "      <td>-7.00</td>\n",
       "      <td>0.00034</td>\n",
       "      <td>-0.00012</td>\n",
       "      <td>0.00060</td>\n",
       "      <td>0.00036</td>\n",
       "      <td>-0.00028</td>\n",
       "      <td>...</td>\n",
       "      <td>-0.00078</td>\n",
       "      <td>-0.00012</td>\n",
       "      <td>0.00030</td>\n",
       "      <td>50826</td>\n",
       "      <td>0.00</td>\n",
       "      <td>0.00</td>\n",
       "      <td>0.00</td>\n",
       "      <td>0.00</td>\n",
       "      <td>0.00</td>\n",
       "      <td>0.00</td>\n",
       "    </tr>\n",
       "    <tr>\n",
       "      <th>4</th>\n",
       "      <td>101/5/31</td>\n",
       "      <td>588.88</td>\n",
       "      <td>25.0</td>\n",
       "      <td>-1.44</td>\n",
       "      <td>-5.92</td>\n",
       "      <td>0.00030</td>\n",
       "      <td>-0.00012</td>\n",
       "      <td>0.00072</td>\n",
       "      <td>0.00028</td>\n",
       "      <td>-0.00018</td>\n",
       "      <td>...</td>\n",
       "      <td>-0.00072</td>\n",
       "      <td>-0.00018</td>\n",
       "      <td>0.00026</td>\n",
       "      <td>41251</td>\n",
       "      <td>0.00</td>\n",
       "      <td>0.00</td>\n",
       "      <td>0.00</td>\n",
       "      <td>0.00</td>\n",
       "      <td>0.00</td>\n",
       "      <td>0.00</td>\n",
       "    </tr>\n",
       "    <tr>\n",
       "      <th>...</th>\n",
       "      <td>...</td>\n",
       "      <td>...</td>\n",
       "      <td>...</td>\n",
       "      <td>...</td>\n",
       "      <td>...</td>\n",
       "      <td>...</td>\n",
       "      <td>...</td>\n",
       "      <td>...</td>\n",
       "      <td>...</td>\n",
       "      <td>...</td>\n",
       "      <td>...</td>\n",
       "      <td>...</td>\n",
       "      <td>...</td>\n",
       "      <td>...</td>\n",
       "      <td>...</td>\n",
       "      <td>...</td>\n",
       "      <td>...</td>\n",
       "      <td>...</td>\n",
       "      <td>...</td>\n",
       "      <td>...</td>\n",
       "      <td>...</td>\n",
       "    </tr>\n",
       "    <tr>\n",
       "      <th>104</th>\n",
       "      <td>110/4/29</td>\n",
       "      <td>583.91</td>\n",
       "      <td>16.4</td>\n",
       "      <td>-0.91</td>\n",
       "      <td>-5.59</td>\n",
       "      <td>-0.00026</td>\n",
       "      <td>0.00040</td>\n",
       "      <td>0.00086</td>\n",
       "      <td>0.00012</td>\n",
       "      <td>-0.00018</td>\n",
       "      <td>...</td>\n",
       "      <td>0.00014</td>\n",
       "      <td>-0.00040</td>\n",
       "      <td>-0.00014</td>\n",
       "      <td>77808</td>\n",
       "      <td>0.00</td>\n",
       "      <td>0.00</td>\n",
       "      <td>0.00</td>\n",
       "      <td>0.00</td>\n",
       "      <td>0.00</td>\n",
       "      <td>0.00</td>\n",
       "    </tr>\n",
       "    <tr>\n",
       "      <th>105</th>\n",
       "      <td>110/6/1</td>\n",
       "      <td>585.63</td>\n",
       "      <td>20.6</td>\n",
       "      <td>-0.89</td>\n",
       "      <td>-5.60</td>\n",
       "      <td>-0.00032</td>\n",
       "      <td>0.00050</td>\n",
       "      <td>0.00020</td>\n",
       "      <td>0.00026</td>\n",
       "      <td>-0.00014</td>\n",
       "      <td>...</td>\n",
       "      <td>0.00014</td>\n",
       "      <td>-0.00040</td>\n",
       "      <td>0.00060</td>\n",
       "      <td>48537</td>\n",
       "      <td>0.09</td>\n",
       "      <td>0.04</td>\n",
       "      <td>0.13</td>\n",
       "      <td>-0.05</td>\n",
       "      <td>-0.07</td>\n",
       "      <td>-0.02</td>\n",
       "    </tr>\n",
       "    <tr>\n",
       "      <th>106</th>\n",
       "      <td>110/7/5</td>\n",
       "      <td>587.93</td>\n",
       "      <td>29.4</td>\n",
       "      <td>-0.81</td>\n",
       "      <td>-5.75</td>\n",
       "      <td>-0.00030</td>\n",
       "      <td>0.00042</td>\n",
       "      <td>0.00002</td>\n",
       "      <td>0.00014</td>\n",
       "      <td>-0.00016</td>\n",
       "      <td>...</td>\n",
       "      <td>0.00030</td>\n",
       "      <td>-0.00026</td>\n",
       "      <td>0.00068</td>\n",
       "      <td>51877</td>\n",
       "      <td>-0.05</td>\n",
       "      <td>-0.25</td>\n",
       "      <td>-0.05</td>\n",
       "      <td>-0.32</td>\n",
       "      <td>-0.42</td>\n",
       "      <td>-0.35</td>\n",
       "    </tr>\n",
       "    <tr>\n",
       "      <th>107</th>\n",
       "      <td>110/8/2</td>\n",
       "      <td>588.60</td>\n",
       "      <td>33.0</td>\n",
       "      <td>-1.57</td>\n",
       "      <td>-5.66</td>\n",
       "      <td>-0.00050</td>\n",
       "      <td>0.00046</td>\n",
       "      <td>-0.00002</td>\n",
       "      <td>0.00010</td>\n",
       "      <td>-0.00020</td>\n",
       "      <td>...</td>\n",
       "      <td>0.00064</td>\n",
       "      <td>0.00004</td>\n",
       "      <td>0.00068</td>\n",
       "      <td>29221</td>\n",
       "      <td>-1.74</td>\n",
       "      <td>-1.24</td>\n",
       "      <td>-0.79</td>\n",
       "      <td>-0.72</td>\n",
       "      <td>-0.44</td>\n",
       "      <td>-0.35</td>\n",
       "    </tr>\n",
       "    <tr>\n",
       "      <th>108</th>\n",
       "      <td>110/9/1</td>\n",
       "      <td>588.60</td>\n",
       "      <td>31.8</td>\n",
       "      <td>-1.68</td>\n",
       "      <td>-5.71</td>\n",
       "      <td>-0.00062</td>\n",
       "      <td>0.00050</td>\n",
       "      <td>0.00014</td>\n",
       "      <td>0.00004</td>\n",
       "      <td>-0.00004</td>\n",
       "      <td>...</td>\n",
       "      <td>0.00030</td>\n",
       "      <td>-0.00010</td>\n",
       "      <td>0.00064</td>\n",
       "      <td>17637</td>\n",
       "      <td>-0.87</td>\n",
       "      <td>-0.60</td>\n",
       "      <td>-0.29</td>\n",
       "      <td>-3.06</td>\n",
       "      <td>-1.74</td>\n",
       "      <td>-1.52</td>\n",
       "    </tr>\n",
       "  </tbody>\n",
       "</table>\n",
       "<p>109 rows × 24 columns</p>\n",
       "</div>"
      ],
      "text/plain": [
       "          date  deflection  temperature   OW1   OW2  T1(1-3)  T1(2-4)  \\\n",
       "0     100/8/29      587.50         32.0 -2.65 -7.40  0.00010 -0.00008   \n",
       "1     100/9/26      585.44         28.0 -2.84 -7.20  0.00014 -0.00006   \n",
       "2    100/10/28      583.40         25.0 -2.38 -7.00  0.00016 -0.00010   \n",
       "3     100/12/7      594.63         31.0 -2.10 -7.00  0.00034 -0.00012   \n",
       "4     101/5/31      588.88         25.0 -1.44 -5.92  0.00030 -0.00012   \n",
       "..         ...         ...          ...   ...   ...      ...      ...   \n",
       "104   110/4/29      583.91         16.4 -0.91 -5.59 -0.00026  0.00040   \n",
       "105    110/6/1      585.63         20.6 -0.89 -5.60 -0.00032  0.00050   \n",
       "106    110/7/5      587.93         29.4 -0.81 -5.75 -0.00030  0.00042   \n",
       "107    110/8/2      588.60         33.0 -1.57 -5.66 -0.00050  0.00046   \n",
       "108    110/9/1      588.60         31.8 -1.68 -5.71 -0.00062  0.00050   \n",
       "\n",
       "     T2(1-3)  T2(2-4)  T3(1-3)  ...  T5(2-4)  T6(1-3)  T6(2-4)  number  \\\n",
       "0    0.00044  0.00024 -0.00018  ... -0.00042 -0.00018  0.00044   35282   \n",
       "1    0.00044  0.00008 -0.00006  ... -0.00042 -0.00016  0.00046   43399   \n",
       "2    0.00044  0.00004 -0.00008  ... -0.00046 -0.00018  0.00044   59634   \n",
       "3    0.00060  0.00036 -0.00028  ... -0.00078 -0.00012  0.00030   50826   \n",
       "4    0.00072  0.00028 -0.00018  ... -0.00072 -0.00018  0.00026   41251   \n",
       "..       ...      ...      ...  ...      ...      ...      ...     ...   \n",
       "104  0.00086  0.00012 -0.00018  ...  0.00014 -0.00040 -0.00014   77808   \n",
       "105  0.00020  0.00026 -0.00014  ...  0.00014 -0.00040  0.00060   48537   \n",
       "106  0.00002  0.00014 -0.00016  ...  0.00030 -0.00026  0.00068   51877   \n",
       "107 -0.00002  0.00010 -0.00020  ...  0.00064  0.00004  0.00068   29221   \n",
       "108  0.00014  0.00004 -0.00004  ...  0.00030 -0.00010  0.00064   17637   \n",
       "\n",
       "     SO1(1.5)  SO1(2.5)  SO1(3.5)  SO2(0.5)  SO2(10.5)  SO2(11.0)  \n",
       "0        0.00      0.00      0.00      0.00       0.00       0.00  \n",
       "1        0.00      0.00      0.00      0.00       0.00       0.00  \n",
       "2        0.00      0.00      0.00      0.00       0.00       0.00  \n",
       "3        0.00      0.00      0.00      0.00       0.00       0.00  \n",
       "4        0.00      0.00      0.00      0.00       0.00       0.00  \n",
       "..        ...       ...       ...       ...        ...        ...  \n",
       "104      0.00      0.00      0.00      0.00       0.00       0.00  \n",
       "105      0.09      0.04      0.13     -0.05      -0.07      -0.02  \n",
       "106     -0.05     -0.25     -0.05     -0.32      -0.42      -0.35  \n",
       "107     -1.74     -1.24     -0.79     -0.72      -0.44      -0.35  \n",
       "108     -0.87     -0.60     -0.29     -3.06      -1.74      -1.52  \n",
       "\n",
       "[109 rows x 24 columns]"
      ]
     },
     "execution_count": 58,
     "metadata": {},
     "output_type": "execute_result"
    }
   ],
   "source": [
    "df = pd.read_csv('./bridgeconbine121603.csv')\n",
    "df"
   ]
  },
  {
   "cell_type": "code",
   "execution_count": 59,
   "id": "ced24d5d",
   "metadata": {},
   "outputs": [
    {
     "data": {
      "text/html": [
       "<div>\n",
       "<style scoped>\n",
       "    .dataframe tbody tr th:only-of-type {\n",
       "        vertical-align: middle;\n",
       "    }\n",
       "\n",
       "    .dataframe tbody tr th {\n",
       "        vertical-align: top;\n",
       "    }\n",
       "\n",
       "    .dataframe thead th {\n",
       "        text-align: right;\n",
       "    }\n",
       "</style>\n",
       "<table border=\"1\" class=\"dataframe\">\n",
       "  <thead>\n",
       "    <tr style=\"text-align: right;\">\n",
       "      <th></th>\n",
       "      <th>deflection</th>\n",
       "      <th>temperature</th>\n",
       "      <th>OW1</th>\n",
       "      <th>OW2</th>\n",
       "      <th>T1(1-3)</th>\n",
       "      <th>T1(2-4)</th>\n",
       "      <th>T2(1-3)</th>\n",
       "      <th>T2(2-4)</th>\n",
       "      <th>T3(1-3)</th>\n",
       "      <th>T3(2-4)</th>\n",
       "      <th>...</th>\n",
       "      <th>T5(2-4)</th>\n",
       "      <th>T6(1-3)</th>\n",
       "      <th>T6(2-4)</th>\n",
       "      <th>number</th>\n",
       "      <th>SO1(1.5)</th>\n",
       "      <th>SO1(2.5)</th>\n",
       "      <th>SO1(3.5)</th>\n",
       "      <th>SO2(0.5)</th>\n",
       "      <th>SO2(10.5)</th>\n",
       "      <th>SO2(11.0)</th>\n",
       "    </tr>\n",
       "  </thead>\n",
       "  <tbody>\n",
       "    <tr>\n",
       "      <th>count</th>\n",
       "      <td>109.00000</td>\n",
       "      <td>109.000000</td>\n",
       "      <td>109.000000</td>\n",
       "      <td>109.000000</td>\n",
       "      <td>109.000000</td>\n",
       "      <td>109.000000</td>\n",
       "      <td>109.000000</td>\n",
       "      <td>109.000000</td>\n",
       "      <td>109.000000</td>\n",
       "      <td>109.000000</td>\n",
       "      <td>...</td>\n",
       "      <td>109.000000</td>\n",
       "      <td>109.000000</td>\n",
       "      <td>109.000000</td>\n",
       "      <td>109.000000</td>\n",
       "      <td>109.000000</td>\n",
       "      <td>109.000000</td>\n",
       "      <td>109.000000</td>\n",
       "      <td>109.000000</td>\n",
       "      <td>109.00000</td>\n",
       "      <td>109.000000</td>\n",
       "    </tr>\n",
       "    <tr>\n",
       "      <th>mean</th>\n",
       "      <td>586.18055</td>\n",
       "      <td>22.588073</td>\n",
       "      <td>-1.467706</td>\n",
       "      <td>-6.587523</td>\n",
       "      <td>0.000302</td>\n",
       "      <td>-0.000067</td>\n",
       "      <td>0.000740</td>\n",
       "      <td>0.000172</td>\n",
       "      <td>-0.000803</td>\n",
       "      <td>0.001278</td>\n",
       "      <td>...</td>\n",
       "      <td>-0.001201</td>\n",
       "      <td>-0.000250</td>\n",
       "      <td>0.000343</td>\n",
       "      <td>36353.009174</td>\n",
       "      <td>0.175138</td>\n",
       "      <td>0.174037</td>\n",
       "      <td>0.168532</td>\n",
       "      <td>0.009633</td>\n",
       "      <td>-0.00789</td>\n",
       "      <td>0.007431</td>\n",
       "    </tr>\n",
       "    <tr>\n",
       "      <th>std</th>\n",
       "      <td>2.42929</td>\n",
       "      <td>5.806713</td>\n",
       "      <td>0.504285</td>\n",
       "      <td>0.984695</td>\n",
       "      <td>0.000257</td>\n",
       "      <td>0.000171</td>\n",
       "      <td>0.000659</td>\n",
       "      <td>0.000205</td>\n",
       "      <td>0.000588</td>\n",
       "      <td>0.000729</td>\n",
       "      <td>...</td>\n",
       "      <td>0.000762</td>\n",
       "      <td>0.000135</td>\n",
       "      <td>0.000193</td>\n",
       "      <td>11438.434614</td>\n",
       "      <td>0.279976</td>\n",
       "      <td>0.241906</td>\n",
       "      <td>0.190675</td>\n",
       "      <td>0.325897</td>\n",
       "      <td>0.18301</td>\n",
       "      <td>0.170171</td>\n",
       "    </tr>\n",
       "    <tr>\n",
       "      <th>min</th>\n",
       "      <td>580.20000</td>\n",
       "      <td>7.700000</td>\n",
       "      <td>-2.840000</td>\n",
       "      <td>-9.400000</td>\n",
       "      <td>-0.000620</td>\n",
       "      <td>-0.000340</td>\n",
       "      <td>-0.000160</td>\n",
       "      <td>-0.000800</td>\n",
       "      <td>-0.001740</td>\n",
       "      <td>0.000000</td>\n",
       "      <td>...</td>\n",
       "      <td>-0.002160</td>\n",
       "      <td>-0.000720</td>\n",
       "      <td>-0.000320</td>\n",
       "      <td>17637.000000</td>\n",
       "      <td>-1.740000</td>\n",
       "      <td>-1.240000</td>\n",
       "      <td>-0.790000</td>\n",
       "      <td>-3.060000</td>\n",
       "      <td>-1.74000</td>\n",
       "      <td>-1.520000</td>\n",
       "    </tr>\n",
       "    <tr>\n",
       "      <th>25%</th>\n",
       "      <td>584.31000</td>\n",
       "      <td>17.900000</td>\n",
       "      <td>-1.780000</td>\n",
       "      <td>-7.210000</td>\n",
       "      <td>0.000160</td>\n",
       "      <td>-0.000160</td>\n",
       "      <td>0.000300</td>\n",
       "      <td>0.000060</td>\n",
       "      <td>-0.001380</td>\n",
       "      <td>0.000860</td>\n",
       "      <td>...</td>\n",
       "      <td>-0.001820</td>\n",
       "      <td>-0.000320</td>\n",
       "      <td>0.000280</td>\n",
       "      <td>28817.000000</td>\n",
       "      <td>0.000000</td>\n",
       "      <td>0.000000</td>\n",
       "      <td>0.000000</td>\n",
       "      <td>0.000000</td>\n",
       "      <td>0.00000</td>\n",
       "      <td>0.000000</td>\n",
       "    </tr>\n",
       "    <tr>\n",
       "      <th>50%</th>\n",
       "      <td>586.44000</td>\n",
       "      <td>23.300000</td>\n",
       "      <td>-1.440000</td>\n",
       "      <td>-6.360000</td>\n",
       "      <td>0.000320</td>\n",
       "      <td>-0.000100</td>\n",
       "      <td>0.000620</td>\n",
       "      <td>0.000160</td>\n",
       "      <td>-0.000840</td>\n",
       "      <td>0.001320</td>\n",
       "      <td>...</td>\n",
       "      <td>-0.001460</td>\n",
       "      <td>-0.000220</td>\n",
       "      <td>0.000380</td>\n",
       "      <td>32481.000000</td>\n",
       "      <td>0.220000</td>\n",
       "      <td>0.180000</td>\n",
       "      <td>0.190000</td>\n",
       "      <td>0.000000</td>\n",
       "      <td>0.00000</td>\n",
       "      <td>0.000000</td>\n",
       "    </tr>\n",
       "    <tr>\n",
       "      <th>75%</th>\n",
       "      <td>587.97000</td>\n",
       "      <td>27.400000</td>\n",
       "      <td>-1.140000</td>\n",
       "      <td>-5.870000</td>\n",
       "      <td>0.000460</td>\n",
       "      <td>0.000020</td>\n",
       "      <td>0.000960</td>\n",
       "      <td>0.000300</td>\n",
       "      <td>-0.000280</td>\n",
       "      <td>0.001880</td>\n",
       "      <td>...</td>\n",
       "      <td>-0.000780</td>\n",
       "      <td>-0.000160</td>\n",
       "      <td>0.000460</td>\n",
       "      <td>43399.000000</td>\n",
       "      <td>0.350000</td>\n",
       "      <td>0.330000</td>\n",
       "      <td>0.320000</td>\n",
       "      <td>0.000000</td>\n",
       "      <td>0.00000</td>\n",
       "      <td>0.000000</td>\n",
       "    </tr>\n",
       "    <tr>\n",
       "      <th>max</th>\n",
       "      <td>594.63000</td>\n",
       "      <td>33.000000</td>\n",
       "      <td>-0.400000</td>\n",
       "      <td>-4.500000</td>\n",
       "      <td>0.000860</td>\n",
       "      <td>0.000500</td>\n",
       "      <td>0.002080</td>\n",
       "      <td>0.000640</td>\n",
       "      <td>0.000120</td>\n",
       "      <td>0.002540</td>\n",
       "      <td>...</td>\n",
       "      <td>0.000640</td>\n",
       "      <td>0.000040</td>\n",
       "      <td>0.000680</td>\n",
       "      <td>77808.000000</td>\n",
       "      <td>0.570000</td>\n",
       "      <td>0.610000</td>\n",
       "      <td>0.490000</td>\n",
       "      <td>0.400000</td>\n",
       "      <td>0.19000</td>\n",
       "      <td>0.300000</td>\n",
       "    </tr>\n",
       "  </tbody>\n",
       "</table>\n",
       "<p>8 rows × 23 columns</p>\n",
       "</div>"
      ],
      "text/plain": [
       "       deflection  temperature         OW1         OW2     T1(1-3)  \\\n",
       "count   109.00000   109.000000  109.000000  109.000000  109.000000   \n",
       "mean    586.18055    22.588073   -1.467706   -6.587523    0.000302   \n",
       "std       2.42929     5.806713    0.504285    0.984695    0.000257   \n",
       "min     580.20000     7.700000   -2.840000   -9.400000   -0.000620   \n",
       "25%     584.31000    17.900000   -1.780000   -7.210000    0.000160   \n",
       "50%     586.44000    23.300000   -1.440000   -6.360000    0.000320   \n",
       "75%     587.97000    27.400000   -1.140000   -5.870000    0.000460   \n",
       "max     594.63000    33.000000   -0.400000   -4.500000    0.000860   \n",
       "\n",
       "          T1(2-4)     T2(1-3)     T2(2-4)     T3(1-3)     T3(2-4)  ...  \\\n",
       "count  109.000000  109.000000  109.000000  109.000000  109.000000  ...   \n",
       "mean    -0.000067    0.000740    0.000172   -0.000803    0.001278  ...   \n",
       "std      0.000171    0.000659    0.000205    0.000588    0.000729  ...   \n",
       "min     -0.000340   -0.000160   -0.000800   -0.001740    0.000000  ...   \n",
       "25%     -0.000160    0.000300    0.000060   -0.001380    0.000860  ...   \n",
       "50%     -0.000100    0.000620    0.000160   -0.000840    0.001320  ...   \n",
       "75%      0.000020    0.000960    0.000300   -0.000280    0.001880  ...   \n",
       "max      0.000500    0.002080    0.000640    0.000120    0.002540  ...   \n",
       "\n",
       "          T5(2-4)     T6(1-3)     T6(2-4)        number    SO1(1.5)  \\\n",
       "count  109.000000  109.000000  109.000000    109.000000  109.000000   \n",
       "mean    -0.001201   -0.000250    0.000343  36353.009174    0.175138   \n",
       "std      0.000762    0.000135    0.000193  11438.434614    0.279976   \n",
       "min     -0.002160   -0.000720   -0.000320  17637.000000   -1.740000   \n",
       "25%     -0.001820   -0.000320    0.000280  28817.000000    0.000000   \n",
       "50%     -0.001460   -0.000220    0.000380  32481.000000    0.220000   \n",
       "75%     -0.000780   -0.000160    0.000460  43399.000000    0.350000   \n",
       "max      0.000640    0.000040    0.000680  77808.000000    0.570000   \n",
       "\n",
       "         SO1(2.5)    SO1(3.5)    SO2(0.5)  SO2(10.5)   SO2(11.0)  \n",
       "count  109.000000  109.000000  109.000000  109.00000  109.000000  \n",
       "mean     0.174037    0.168532    0.009633   -0.00789    0.007431  \n",
       "std      0.241906    0.190675    0.325897    0.18301    0.170171  \n",
       "min     -1.240000   -0.790000   -3.060000   -1.74000   -1.520000  \n",
       "25%      0.000000    0.000000    0.000000    0.00000    0.000000  \n",
       "50%      0.180000    0.190000    0.000000    0.00000    0.000000  \n",
       "75%      0.330000    0.320000    0.000000    0.00000    0.000000  \n",
       "max      0.610000    0.490000    0.400000    0.19000    0.300000  \n",
       "\n",
       "[8 rows x 23 columns]"
      ]
     },
     "execution_count": 59,
     "metadata": {},
     "output_type": "execute_result"
    }
   ],
   "source": [
    "df.describe()"
   ]
  },
  {
   "cell_type": "code",
   "execution_count": 60,
   "id": "6b07f47a",
   "metadata": {
    "scrolled": true
   },
   "outputs": [
    {
     "name": "stdout",
     "output_type": "stream",
     "text": [
      "<class 'pandas.core.frame.DataFrame'>\n",
      "RangeIndex: 109 entries, 0 to 108\n",
      "Data columns (total 24 columns):\n",
      " #   Column       Non-Null Count  Dtype  \n",
      "---  ------       --------------  -----  \n",
      " 0   date         109 non-null    object \n",
      " 1   deflection   109 non-null    float64\n",
      " 2   temperature  109 non-null    float64\n",
      " 3   OW1          109 non-null    float64\n",
      " 4   OW2          109 non-null    float64\n",
      " 5   T1(1-3)      109 non-null    float64\n",
      " 6   T1(2-4)      109 non-null    float64\n",
      " 7   T2(1-3)      109 non-null    float64\n",
      " 8   T2(2-4)      109 non-null    float64\n",
      " 9   T3(1-3)      109 non-null    float64\n",
      " 10  T3(2-4)      109 non-null    float64\n",
      " 11  T4(1-3)      109 non-null    float64\n",
      " 12  T4(2-4)      109 non-null    float64\n",
      " 13  T5(1-3)      109 non-null    float64\n",
      " 14  T5(2-4)      109 non-null    float64\n",
      " 15  T6(1-3)      109 non-null    float64\n",
      " 16  T6(2-4)      109 non-null    float64\n",
      " 17  number       109 non-null    int64  \n",
      " 18  SO1(1.5)     109 non-null    float64\n",
      " 19  SO1(2.5)     109 non-null    float64\n",
      " 20  SO1(3.5)     109 non-null    float64\n",
      " 21  SO2(0.5)     109 non-null    float64\n",
      " 22  SO2(10.5)    109 non-null    float64\n",
      " 23  SO2(11.0)    109 non-null    float64\n",
      "dtypes: float64(22), int64(1), object(1)\n",
      "memory usage: 20.6+ KB\n"
     ]
    }
   ],
   "source": [
    "df.info()"
   ]
  },
  {
   "cell_type": "code",
   "execution_count": 61,
   "id": "0824b74f",
   "metadata": {},
   "outputs": [
    {
     "data": {
      "text/plain": [
       "Text(0.5, 1.0, 'temperature vs deflection of Baishihu Suspension Bridge')"
      ]
     },
     "execution_count": 61,
     "metadata": {},
     "output_type": "execute_result"
    },
    {
     "data": {
      "image/png": "[encoded data removed]",
      "text/plain": [
       "<Figure size 864x720 with 1 Axes>"
      ]
     },
     "metadata": {
      "needs_background": "light"
     },
     "output_type": "display_data"
    }
   ],
   "source": [
    "import numpy as np\n",
    "import pandas as pd\n",
    "import seaborn as sns\n",
    "from matplotlib import pyplot as plt \n",
    "plt.figure(figsize=(12, 10))\n",
    "ax = sns.scatterplot(x=\"temperature\", y=\"deflection\", data=df)\n",
    "plt.title('temperature vs deflection of Baishihu Suspension Bridge')"
   ]
  },
  {
   "cell_type": "code",
   "execution_count": 62,
   "id": "ba75fdf9",
   "metadata": {
    "scrolled": true
   },
   "outputs": [
    {
     "name": "stderr",
     "output_type": "stream",
     "text": [
      "C:\\ProgramData\\Anaconda3\\lib\\site-packages\\seaborn\\distributions.py:2557: FutureWarning: `distplot` is a deprecated function and will be removed in a future version. Please adapt your code to use either `displot` (a figure-level function with similar flexibility) or `histplot` (an axes-level function for histograms).\n",
      "  warnings.warn(msg, FutureWarning)\n"
     ]
    },
    {
     "data": {
      "text/plain": [
       "<AxesSubplot:xlabel='deflection'>"
      ]
     },
     "execution_count": 62,
     "metadata": {},
     "output_type": "execute_result"
    },
    {
     "data": {
      "image/png": "[encoded data removed]",
      "text/plain": [
       "<Figure size 432x288 with 1 Axes>"
      ]
     },
     "metadata": {
      "needs_background": "light"
     },
     "output_type": "display_data"
    }
   ],
   "source": [
    "sns.distplot(df['deflection'],kde=0)"
   ]
  },
  {
   "cell_type": "code",
   "execution_count": 63,
   "id": "44b5a3ca",
   "metadata": {},
   "outputs": [],
   "source": [
    "from sklearn.model_selection import train_test_split\n",
    "features = ['temperature', 'OW1', 'OW2', 'T1(1-3)','T1(2-4)','T2(1-3)','T2(2-4)','T3(1-3)','T3(2-4)','T4(1-3)','T4(2-4)','T5(1-3)','T5(2-4)','T6(1-3)','T6(2-4)','number','SO1(1.5)','SO1(2.5)','SO1(3.5)','SO2(0.5)','SO2(10.5)','SO2(11.0)'] \n",
    "\n",
    "X = df[features]\n",
    "y = df['deflection']\n",
    "X_train, X_test, y_train, y_test = train_test_split(X, y, test_size=0.2)"
   ]
  },
  {
   "cell_type": "code",
   "execution_count": 64,
   "id": "7b81d4d7",
   "metadata": {},
   "outputs": [
    {
     "data": {
      "text/plain": [
       "LinearRegression()"
      ]
     },
     "execution_count": 64,
     "metadata": {},
     "output_type": "execute_result"
    }
   ],
   "source": [
    "from sklearn.linear_model import LinearRegression#線性回歸\n",
    "clf1 = LinearRegression()\n",
    "\n",
    "clf1.fit(X_train, y_train)"
   ]
  },
  {
   "cell_type": "code",
   "execution_count": 65,
   "id": "26368f8c",
   "metadata": {},
   "outputs": [
    {
     "data": {
      "text/plain": [
       "581.1958065769438"
      ]
     },
     "execution_count": 65,
     "metadata": {},
     "output_type": "execute_result"
    }
   ],
   "source": [
    "clf1.intercept_"
   ]
  },
  {
   "cell_type": "code",
   "execution_count": 66,
   "id": "aff3749a",
   "metadata": {
    "scrolled": true
   },
   "outputs": [
    {
     "data": {
      "text/plain": [
       "array([ 3.24789361e-01,  9.45343598e-01, -1.18837316e-01, -1.93423933e+02,\n",
       "        2.18135965e+03,  8.73346594e+02,  1.42373411e+03,  1.02140244e+03,\n",
       "        1.30795370e+02,  1.73455536e+03,  3.17591235e+03, -1.30509793e+03,\n",
       "        1.97853899e+01, -1.98613700e+03, -1.82540078e+03, -1.75138440e-05,\n",
       "       -5.56850009e-01, -1.56584923e+00,  1.34364332e+00,  2.78499950e-01,\n",
       "        1.34135624e+01, -1.50043601e+01])"
      ]
     },
     "execution_count": 66,
     "metadata": {},
     "output_type": "execute_result"
    }
   ],
   "source": [
    "clf1.coef_"
   ]
  },
  {
   "cell_type": "code",
   "execution_count": 67,
   "id": "49426bb3",
   "metadata": {
    "scrolled": true
   },
   "outputs": [
    {
     "data": {
      "text/plain": [
       "array([589.56171895, 588.01247646, 581.05111269, 584.49784184,\n",
       "       583.93234725, 586.78061935, 586.4439798 , 583.85949874,\n",
       "       584.55723466, 586.98425824, 584.76569327, 586.89539516,\n",
       "       590.33941093, 588.68544894, 583.56919857, 585.17216923,\n",
       "       583.70715015, 584.06003883, 589.39640773, 587.07414353,\n",
       "       587.73501151, 586.51386947])"
      ]
     },
     "execution_count": 67,
     "metadata": {},
     "output_type": "execute_result"
    }
   ],
   "source": [
    "y_pred = clf1.predict(X_test)\n",
    "y_pred"
   ]
  },
  {
   "cell_type": "code",
   "execution_count": 68,
   "id": "90a004c2",
   "metadata": {},
   "outputs": [
    {
     "data": {
      "text/plain": [
       "1.8045887793733848"
      ]
     },
     "execution_count": 68,
     "metadata": {},
     "output_type": "execute_result"
    }
   ],
   "source": [
    "# 幫模型打分數\n",
    "from sklearn.metrics import mean_squared_error\n",
    "mean_squared_error(y_test, y_pred)"
   ]
  },
  {
   "cell_type": "code",
   "execution_count": 69,
   "id": "f699f214",
   "metadata": {},
   "outputs": [
    {
     "data": {
      "text/plain": [
       "0.7408696054118808"
      ]
     },
     "execution_count": 69,
     "metadata": {},
     "output_type": "execute_result"
    }
   ],
   "source": [
    "# 幫模型打分數\n",
    "from sklearn.metrics import r2_score\n",
    "r2_score(y_test, y_pred)"
   ]
  },
  {
   "cell_type": "code",
   "execution_count": 70,
   "id": "8dab5b66",
   "metadata": {},
   "outputs": [
    {
     "name": "stdout",
     "output_type": "stream",
     "text": [
      "y = 0.3279 * x + 581.8520\n"
     ]
    }
   ],
   "source": [
    "from sklearn.linear_model import LinearRegression\n",
    "clf1 = LinearRegression()\n",
    "clf1.fit(X, y)\n",
    "print('y = {:.4f} * x + {:.4f}'.format(clf1.coef_[0], clf1.intercept_))"
   ]
  },
  {
   "cell_type": "code",
   "execution_count": 78,
   "id": "150f4359",
   "metadata": {},
   "outputs": [
    {
     "data": {
      "text/plain": [
       "LinearRegression()"
      ]
     },
     "execution_count": 78,
     "metadata": {},
     "output_type": "execute_result"
    }
   ],
   "source": [
    "clf1.fit(X, y)"
   ]
  },
  {
   "cell_type": "code",
   "execution_count": 79,
   "id": "6b988c74",
   "metadata": {
    "scrolled": true
   },
   "outputs": [
    {
     "name": "stderr",
     "output_type": "stream",
     "text": [
      "C:\\ProgramData\\Anaconda3\\lib\\site-packages\\sklearn\\base.py:438: UserWarning: X has feature names, but PCA was fitted without feature names\n",
      "  warnings.warn(\n",
      "C:\\ProgramData\\Anaconda3\\lib\\site-packages\\sklearn\\base.py:438: UserWarning: X has feature names, but PCA was fitted without feature names\n",
      "  warnings.warn(\n"
     ]
    },
    {
     "data": {
      "image/png": "[encoded data removed]",
      "text/plain": [
       "<Figure size 720x216 with 2 Axes>"
      ]
     },
     "metadata": {
      "needs_background": "light"
     },
     "output_type": "display_data"
    }
   ],
   "source": [
    "from sklearn.model_selection import train_test_split\n",
    "from sklearn.pipeline import make_pipeline\n",
    "from sklearn.linear_model import LinearRegression\n",
    "from sklearn.preprocessing import StandardScaler\n",
    "from sklearn.decomposition import PCA\n",
    "from sklearn.cross_decomposition import PLSRegression\n",
    "\n",
    "X_train, X_test, y_train, y_test = train_test_split(X, y, random_state=0)\n",
    "\n",
    "pcr = make_pipeline(StandardScaler(), PCA(n_components=1), LinearRegression())\n",
    "pcr.fit(X_train, y_train)\n",
    "pca = pcr.named_steps[\"pca\"]  # retrieve the PCA step of the pipeline\n",
    "\n",
    "pls = PLSRegression(n_components=1)\n",
    "pls.fit(X_train, y_train)\n",
    "\n",
    "fig, axes = plt.subplots(1, 2, figsize=(10, 3))\n",
    "axes[0].scatter(pca.transform(X_test), y_test, alpha=0.3, label=\"ground truth\")\n",
    "axes[0].scatter(\n",
    "    pca.transform(X_test), pcr.predict(X_test), alpha=0.3, label=\"predictions\"\n",
    ")\n",
    "axes[0].set(\n",
    "    xlabel=\"Projected data onto first PCA component\", ylabel=\"y\", title=\"PCR / PCA\"\n",
    ")\n",
    "axes[0].legend()\n",
    "axes[1].scatter(pls.transform(X_test), y_test, alpha=0.3, label=\"ground truth\")\n",
    "axes[1].scatter(\n",
    "    pls.transform(X_test), pls.predict(X_test), alpha=0.3, label=\"predictions\"\n",
    ")\n",
    "axes[1].set(xlabel=\"Projected data onto first PLS component\", ylabel=\"y\", title=\"PLS\")\n",
    "axes[1].legend()\n",
    "plt.tight_layout()\n",
    "plt.show()"
   ]
  },
  {
   "cell_type": "code",
   "execution_count": 80,
   "id": "9a40efab",
   "metadata": {},
   "outputs": [
    {
     "name": "stdout",
     "output_type": "stream",
     "text": [
      "PCR r-squared -0.271\n",
      "PLS r-squared -0.285\n"
     ]
    }
   ],
   "source": [
    "print(f\"PCR r-squared {pcr.score(X_test, y_test):.3f}\")\n",
    "print(f\"PLS r-squared {pls.score(X_test, y_test):.3f}\")"
   ]
  },
  {
   "cell_type": "code",
   "execution_count": 81,
   "id": "9d5fe38b",
   "metadata": {},
   "outputs": [
    {
     "name": "stdout",
     "output_type": "stream",
     "text": [
      "PCR r-squared with 2 components -0.177\n"
     ]
    }
   ],
   "source": [
    "pca_2 = make_pipeline(PCA(n_components=1), LinearRegression())\n",
    "pca_2.fit(X_train, y_train)\n",
    "print(f\"PCR r-squared with 2 components {pca_2.score(X_test, y_test):.3f}\")"
   ]
  },
  {
   "cell_type": "code",
   "execution_count": 82,
   "id": "34261735",
   "metadata": {},
   "outputs": [],
   "source": [
    "import numpy as np\n",
    "from sklearn.svm import SVR\n",
    "import matplotlib.pyplot as plt"
   ]
  },
  {
   "cell_type": "code",
   "execution_count": 83,
   "id": "2c8ab0c3",
   "metadata": {},
   "outputs": [
    {
     "data": {
      "text/plain": [
       "LinearRegression()"
      ]
     },
     "execution_count": 83,
     "metadata": {},
     "output_type": "execute_result"
    }
   ],
   "source": [
    "from sklearn.linear_model import LinearRegression#線性回歸\n",
    "clf2 = LinearRegression()\n",
    "\n",
    "clf2.fit(X_train, y_train)"
   ]
  },
  {
   "cell_type": "code",
   "execution_count": 84,
   "id": "47ddf75e",
   "metadata": {},
   "outputs": [
    {
     "name": "stdout",
     "output_type": "stream",
     "text": [
      "y = 0.3279 * x + 581.8520\n"
     ]
    }
   ],
   "source": [
    "from sklearn.linear_model import LinearRegression\n",
    "clf2 = LinearRegression()\n",
    "clf2.fit(X, y)\n",
    "print('y = {:.4f} * x + {:.4f}'.format(clf2.coef_[0], clf2.intercept_))"
   ]
  },
  {
   "cell_type": "code",
   "execution_count": 85,
   "id": "85470167",
   "metadata": {},
   "outputs": [],
   "source": [
    "from sklearn.model_selection import train_test_split\n",
    "features02 = ['temperature','T1(1-3)','T1(2-4)','T2(1-3)','T2(2-4)','T3(1-3)','T3(2-4)','T4(1-3)','T4(2-4)','T5(1-3)','T5(2-4)','T6(1-3)','T6(2-4)'] \n",
    "\n",
    "X = df[features02]\n",
    "y = df['deflection']\n",
    "X_train, X_test, y_train, y_test = train_test_split(X, y, test_size=0.2)"
   ]
  },
  {
   "cell_type": "code",
   "execution_count": 86,
   "id": "aa709172",
   "metadata": {},
   "outputs": [
    {
     "data": {
      "text/plain": [
       "LinearRegression()"
      ]
     },
     "execution_count": 86,
     "metadata": {},
     "output_type": "execute_result"
    }
   ],
   "source": [
    "from sklearn.linear_model import LinearRegression#線性回歸\n",
    "clf3 = LinearRegression()\n",
    "\n",
    "clf3.fit(X_train, y_train)"
   ]
  },
  {
   "cell_type": "code",
   "execution_count": 87,
   "id": "62c100ae",
   "metadata": {},
   "outputs": [
    {
     "name": "stdout",
     "output_type": "stream",
     "text": [
      "y = 0.3415 * x + 577.8530\n"
     ]
    }
   ],
   "source": [
    "from sklearn.linear_model import LinearRegression\n",
    "clf3 = LinearRegression()\n",
    "clf3.fit(X, y)\n",
    "print('y = {:.4f} * x + {:.4f}'.format(clf3.coef_[0], clf3.intercept_))"
   ]
  },
  {
   "cell_type": "code",
   "execution_count": 88,
   "id": "c4bea1e2",
   "metadata": {},
   "outputs": [],
   "source": [
    "from sklearn.model_selection import train_test_split\n",
    "features04 = ['OW1', 'OW2','SO1(1.5)','SO1(2.5)','SO1(3.5)','SO2(0.5)','SO2(10.5)','SO2(11.0)'] \n",
    "\n",
    "X = df[features04]\n",
    "y = df['deflection']\n",
    "X_train, X_test, y_train, y_test = train_test_split(X, y, test_size=0.2)"
   ]
  },
  {
   "cell_type": "code",
   "execution_count": 89,
   "id": "b7e912ab",
   "metadata": {},
   "outputs": [
    {
     "data": {
      "text/plain": [
       "LinearRegression()"
      ]
     },
     "execution_count": 89,
     "metadata": {},
     "output_type": "execute_result"
    }
   ],
   "source": [
    "from sklearn.linear_model import LinearRegression#線性回歸\n",
    "clf4 = LinearRegression()\n",
    "\n",
    "clf4.fit(X_train, y_train)"
   ]
  },
  {
   "cell_type": "code",
   "execution_count": 90,
   "id": "c907b3e6",
   "metadata": {},
   "outputs": [
    {
     "name": "stdout",
     "output_type": "stream",
     "text": [
      "y = 0.3429 * x + 591.3512\n"
     ]
    }
   ],
   "source": [
    "from sklearn.linear_model import LinearRegression\n",
    "clf4 = LinearRegression()\n",
    "clf4.fit(X, y)\n",
    "print('y = {:.4f} * x + {:.4f}'.format(clf4.coef_[0], clf4.intercept_))"
   ]
  },
  {
   "cell_type": "code",
   "execution_count": 91,
   "id": "88a8864a",
   "metadata": {},
   "outputs": [],
   "source": [
    "from sklearn.model_selection import train_test_split\n",
    "features05 = ['T1(1-3)','T1(2-4)','T2(1-3)','T2(2-4)','T3(1-3)','T3(2-4)','T4(1-3)','T4(2-4)','T5(1-3)','T5(2-4)','T6(1-3)','T6(2-4)'] \n",
    "\n",
    "X = df[features05]\n",
    "y = df['deflection']\n",
    "X_train, X_test, y_train, y_test = train_test_split(X, y, test_size=0.2)"
   ]
  },
  {
   "cell_type": "code",
   "execution_count": 92,
   "id": "d130e748",
   "metadata": {},
   "outputs": [
    {
     "data": {
      "text/plain": [
       "LinearRegression()"
      ]
     },
     "execution_count": 92,
     "metadata": {},
     "output_type": "execute_result"
    }
   ],
   "source": [
    "from sklearn.linear_model import LinearRegression#線性回歸\n",
    "clf5 = LinearRegression()\n",
    "\n",
    "clf5.fit(X_train, y_train)"
   ]
  },
  {
   "cell_type": "code",
   "execution_count": 93,
   "id": "0ad548fb",
   "metadata": {},
   "outputs": [
    {
     "name": "stdout",
     "output_type": "stream",
     "text": [
      "y = 1097.2729 * x + 587.6542\n"
     ]
    }
   ],
   "source": [
    "from sklearn.linear_model import LinearRegression\n",
    "clf5 = LinearRegression()\n",
    "clf5.fit(X, y)\n",
    "print('y = {:.4f} * x + {:.4f}'.format(clf5.coef_[0], clf5.intercept_))"
   ]
  },
  {
   "cell_type": "code",
   "execution_count": 94,
   "id": "6f0aef7c",
   "metadata": {},
   "outputs": [
    {
     "data": {
      "image/png": "[encoded data removed]",
      "text/plain": [
       "<Figure size 1080x576 with 21 Axes>"
      ]
     },
     "metadata": {
      "needs_background": "light"
     },
     "output_type": "display_data"
    }
   ],
   "source": [
    "df_num = df.drop(columns=[\"date\"])\n",
    "\n",
    "fig, axes = plt.subplots(len(df_num.columns)//3, 3, figsize=(15, 8))\n",
    "i = 0\n",
    "for triaxis in axes:\n",
    "    for axis in triaxis:\n",
    "        df_num.hist(column = df_num.columns[i], ax=axis)\n",
    "        i = i+1"
   ]
  },
  {
   "cell_type": "code",
   "execution_count": null,
   "id": "fc155fd7",
   "metadata": {},
   "outputs": [],
   "source": []
  }
 ],
 "metadata": {
  "kernelspec": {
   "display_name": "Python 3",
   "language": "python",
   "name": "python3"
  },
  "language_info": {
   "codemirror_mode": {
    "name": "ipython",
    "version": 3
   },
   "file_extension": ".py",
   "mimetype": "text/x-python",
   "name": "python",
   "nbconvert_exporter": "python",
   "pygments_lexer": "ipython3",
   "version": "3.8.8"
  }
 },
 "nbformat": 4,
 "nbformat_minor": 5
}
